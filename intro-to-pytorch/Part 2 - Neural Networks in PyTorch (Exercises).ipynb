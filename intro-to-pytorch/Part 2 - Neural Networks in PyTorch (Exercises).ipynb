{
 "cells": [
  {
   "cell_type": "markdown",
   "metadata": {},
   "source": [
    "# Neural networks with PyTorch\n",
    "\n",
    "Deep learning networks tend to be massive with dozens or hundreds of layers, that's where the term \"deep\" comes from. You can build one of these deep networks using only weight matrices as we did in the previous notebook, but in general it's very cumbersome and difficult to implement. PyTorch has a nice module `nn` that provides a nice way to efficiently build large neural networks."
   ]
  },
  {
   "cell_type": "code",
   "execution_count": 2,
   "metadata": {},
   "outputs": [],
   "source": [
    "# Import necessary packages\n",
    "\n",
    "%matplotlib inline\n",
    "%config InlineBackend.figure_format = 'retina'\n",
    "\n",
    "import numpy as np\n",
    "import torch\n",
    "\n",
    "import helper\n",
    "\n",
    "import matplotlib.pyplot as plt"
   ]
  },
  {
   "cell_type": "markdown",
   "metadata": {},
   "source": [
    "\n",
    "Now we're going to build a larger network that can solve a (formerly) difficult problem, identifying text in an image. Here we'll use the MNIST dataset which consists of greyscale handwritten digits. Each image is 28x28 pixels, you can see a sample below\n",
    "\n",
    "<img src='assets/mnist.png'>\n",
    "\n",
    "Our goal is to build a neural network that can take one of these images and predict the digit in the image.\n",
    "\n",
    "First up, we need to get our dataset. This is provided through the `torchvision` package. The code below will download the MNIST dataset, then create training and test datasets for us. Don't worry too much about the details here, you'll learn more about this later."
   ]
  },
  {
   "cell_type": "code",
   "execution_count": 3,
   "metadata": {},
   "outputs": [],
   "source": [
    "### Run this cell\n",
    "\n",
    "from torchvision import datasets, transforms\n",
    "\n",
    "# Define a transform to normalize the data\n",
    "transform = transforms.Compose([transforms.ToTensor(),\n",
    "                              transforms.Normalize((0.5,), (0.5,)),\n",
    "                              ])\n",
    "\n",
    "# Download and load the training data\n",
    "trainset = datasets.MNIST('~/.pytorch/MNIST_data/', download=True, train=True, transform=transform)\n",
    "trainloader = torch.utils.data.DataLoader(trainset, batch_size=64, shuffle=True)"
   ]
  },
  {
   "cell_type": "markdown",
   "metadata": {},
   "source": [
    "We have the training data loaded into `trainloader` and we make that an iterator with `iter(trainloader)`. Later, we'll use this to loop through the dataset for training, like\n",
    "\n",
    "```python\n",
    "for image, label in trainloader:\n",
    "    ## do things with images and labels\n",
    "```\n",
    "\n",
    "You'll notice I created the `trainloader` with a batch size of 64, and `shuffle=True`. The batch size is the number of images we get in one iteration from the data loader and pass through our network, often called a *batch*. And `shuffle=True` tells it to shuffle the dataset every time we start going through the data loader again. But here I'm just grabbing the first batch so we can check out the data. We can see below that `images` is just a tensor with size `(64, 1, 28, 28)`. So, 64 images per batch, 1 color channel, and 28x28 images."
   ]
  },
  {
   "cell_type": "code",
   "execution_count": 4,
   "metadata": {},
   "outputs": [
    {
     "name": "stdout",
     "output_type": "stream",
     "text": [
      "<class 'torch.Tensor'>\n",
      "torch.Size([64, 1, 28, 28])\n",
      "torch.Size([64])\n"
     ]
    }
   ],
   "source": [
    "dataiter = iter(trainloader)\n",
    "images, labels = dataiter.next()\n",
    "print(type(images))\n",
    "print(images.shape)\n",
    "print(labels.shape)"
   ]
  },
  {
   "cell_type": "markdown",
   "metadata": {},
   "source": [
    "This is what one of the images looks like. "
   ]
  },
  {
   "cell_type": "code",
   "execution_count": 5,
   "metadata": {},
   "outputs": [
    {
     "data": {
      "image/png": "[encoded data removed]",
      "text/plain": [
       "<Figure size 432x288 with 1 Axes>"
      ]
     },
     "metadata": {
      "image/png": {
       "height": 250,
       "width": 253
      },
      "needs_background": "light"
     },
     "output_type": "display_data"
    }
   ],
   "source": [
    "plt.imshow(images[1].numpy().squeeze(), cmap='Greys_r');"
   ]
  },
  {
   "cell_type": "markdown",
   "metadata": {},
   "source": [
    "First, let's try to build a simple network for this dataset using weight matrices and matrix multiplications. Then, we'll see how to do it using PyTorch's `nn` module which provides a much more convenient and powerful method for defining network architectures.\n",
    "\n",
    "The networks you've seen so far are called *fully-connected* or *dense* networks. Each unit in one layer is connected to each unit in the next layer. In fully-connected networks, the input to each layer must be a one-dimensional vector (which can be stacked into a 2D tensor as a batch of multiple examples). However, our images are 28x28 2D tensors, so we need to convert them into 1D vectors. Thinking about sizes, we need to convert the batch of images with shape `(64, 1, 28, 28)` to a have a shape of `(64, 784)`, 784 is 28 times 28. This is typically called *flattening*, we flattened the 2D images into 1D vectors.\n",
    "\n",
    "Previously you built a network with one output unit. Here we need 10 output units, one for each digit. We want our network to predict the digit shown in an image, so what we'll do is calculate probabilities that the image is of any one digit or class. This ends up being a discrete probability distribution over the classes (digits) that tells us the most likely class for the image. That means we need 10 output units for the 10 classes (digits). We'll see how to convert the network output into a probability distribution next.\n",
    "\n",
    "> **Exercise:** Flatten the batch of images `images`. Then build a multi-layer network with 784 input units, 256 hidden units, and 10 output units using random tensors for the weights and biases. For now, use a sigmoid activation for the hidden layer. Leave the output layer without an activation, we'll add one that gives us a probability distribution next."
   ]
  },
  {
   "cell_type": "code",
   "execution_count": 34,
   "metadata": {},
   "outputs": [
    {
     "name": "stdout",
     "output_type": "stream",
     "text": [
      "torch.Size([64, 256])\n",
      "torch.Size([64, 10])\n",
      "tensor([[-10.0869,   5.8251,   7.2565,  -8.3212,  -2.2733,  11.8904,   0.7030,\n",
      "          13.5395,  14.3219,  -0.4766],\n",
      "        [  1.9330,  11.1183,   4.7189, -14.7508,  -9.8176,  -1.1771, -12.6228,\n",
      "          24.8007,  21.6486,   7.7564],\n",
      "        [ -9.7877,  14.8362,   2.5769, -10.3642,   3.2129,  11.2738,  -2.5422,\n",
      "          16.4304,  30.2135,  -6.4589],\n",
      "        [  3.6144,  12.3770,  12.1380, -19.7244,  -1.7010,   4.9881,  -5.8353,\n",
      "          10.7608,  20.1861,   9.8034],\n",
      "        [ -4.8025,  14.4966,   6.2691, -10.9302,  -3.2454,   5.2893,  -8.2482,\n",
      "           1.3315,  22.8204,   5.4775],\n",
      "        [  1.5525,   9.7882,   9.5136, -22.4147,  -1.9617,  -5.0060, -12.5708,\n",
      "          10.3049,  16.7506,  -0.1425],\n",
      "        [-14.6846,  10.9643,   4.5415,  -3.4590,  -3.1996,   4.4997, -14.4762,\n",
      "          26.6967,  24.7265,  -0.3625],\n",
      "        [ -4.4976,  11.3437,  -0.5797, -15.4882,  -3.0059,   3.5710, -16.8271,\n",
      "          13.3991,  27.7683,   0.4441],\n",
      "        [  8.2563,   4.4746,   9.0067, -20.2985,  -2.8273,   7.9648, -18.0790,\n",
      "          21.7875,   5.9902,   3.5660],\n",
      "        [ -0.1897,  15.2129,   9.2320,  -8.4688, -11.6926,  10.4401, -12.0224,\n",
      "          16.1797,  10.7797,  -4.6335],\n",
      "        [ -1.6185,  15.9342,   4.2563, -11.3074,  -1.8049,  11.9731,  -5.7871,\n",
      "           2.2551,   2.1591,  -4.0271],\n",
      "        [ -2.8629,   9.6760,  15.7299, -11.4374,  -0.0876,  -1.7690, -23.7626,\n",
      "          26.3446,  15.5261,  -0.1039],\n",
      "        [ -5.2768,  14.5992,  -0.6009, -25.8226,  -4.0465,  -2.3695, -10.8922,\n",
      "          30.7611,  22.1101,  -5.0435],\n",
      "        [  3.1130,  17.4105,  12.1973,  -5.9978,   5.7944,  10.9475,  -5.9514,\n",
      "           8.1885,   5.9728,  -3.7288],\n",
      "        [ -3.4989,   9.9871,  10.4804,  -3.5343,  -0.0937, -14.2657,  -6.7364,\n",
      "          17.7324,  23.8151,   0.6870],\n",
      "        [  2.1091,  14.9461,  11.9521, -13.8777,   2.9703,  -0.0553, -11.5994,\n",
      "          17.0714,  15.9688,   4.9975],\n",
      "        [ -8.8566,  12.1647,   2.1597,  -8.6940,  -4.0373,   2.2283,  -7.8792,\n",
      "          17.1781,  18.6700,   0.7205],\n",
      "        [ -4.1933,   8.6054,   5.8250,  -6.1035,  -2.0955,   2.5652, -14.8621,\n",
      "          15.6742,  15.4817,   0.4702],\n",
      "        [ -6.7938,  14.7800,   4.7507,  -5.3613,   0.6936,  -5.9623,  -6.5526,\n",
      "          16.9400,  21.4759,  -0.5279],\n",
      "        [ -8.7984,  11.4296,   7.3230, -12.4257,  -0.0893,  12.5729, -12.2886,\n",
      "          12.5942,  12.2350,  -9.2070],\n",
      "        [-12.5102,  11.4101,  -0.1328,  -4.8764,   6.4233,   2.0291, -18.0846,\n",
      "           7.3395,  16.6940,  -4.4550],\n",
      "        [  1.8250,  17.1149,  13.7602, -19.6065,  -4.1997,  -1.2567,  -2.1927,\n",
      "          11.7279,  11.6416,  -6.2875],\n",
      "        [  1.6371,  24.8476,   3.4518, -12.0297,  -0.0467,   0.4192,   1.9948,\n",
      "          10.9870,   9.4967,  -0.3398],\n",
      "        [-11.3321,  12.9610,   5.4917,  -5.1070,  -4.8871,  -0.1162, -12.7545,\n",
      "          17.5602,  20.1517,  11.0596],\n",
      "        [ -9.1968,  10.6498,   3.7716, -13.8317,   0.6342,   4.2671, -14.3372,\n",
      "          16.3576,  26.4925,  -0.3672],\n",
      "        [ -8.6870,  14.0325,   5.3801, -11.5321,  -9.4605,   2.3389,  -8.3594,\n",
      "          19.2725,  29.3399,   2.3364],\n",
      "        [-11.4086,  10.4391,   2.3210,  -8.7153,   0.2882,  -0.9129, -13.8560,\n",
      "          15.0163,  29.4247,   9.6929],\n",
      "        [  9.0151,   0.4728,   4.9923, -12.4338,   3.0772,   5.2385, -16.4500,\n",
      "          11.1934,  13.2832,   1.0889],\n",
      "        [ -5.7574,  14.2136,   2.8640, -22.3272,   1.8283,   0.1655,  -4.4348,\n",
      "           9.0596,  16.2047,   7.7050],\n",
      "        [ -7.2167,   4.4708,   2.8853, -14.3447,   1.3858,  -0.1815, -21.2110,\n",
      "          23.6594,   8.2127,  -1.0403],\n",
      "        [  0.8923,  12.9101,  10.8596, -19.2500,  -3.7455,  -0.2389, -12.2182,\n",
      "          20.4645,  16.8885,  -1.1767],\n",
      "        [  2.4898,   2.4560,   9.2981, -13.7491,  -3.8332,   8.0518,  10.4126,\n",
      "           5.9672,  10.1637,   6.5601],\n",
      "        [  5.3663,   9.2272,  11.1953, -13.9168,  -0.8009,  -0.7346,  -4.2454,\n",
      "           4.6398,  21.9195,  -2.7054],\n",
      "        [  7.0547,   2.6874,  14.5429,  -9.9981,   8.7955,   3.6736,  -5.9144,\n",
      "          15.5159,  14.3977,   3.1710],\n",
      "        [ -6.4678,  10.4097,  15.6725,  -4.5384,  -0.5210,   0.2381, -15.7759,\n",
      "          19.7240,  15.6988,  -1.6021],\n",
      "        [  0.4612,  10.3519,  14.3447, -15.3852,   2.6450,   0.4097,  -5.6564,\n",
      "          13.2783,  20.5684,   0.9961],\n",
      "        [ -8.8900,  19.3240,  17.6420,  -1.4623,  -9.2527,  10.0173,  -4.5913,\n",
      "          10.6032,  14.6698,   2.9247],\n",
      "        [ -3.8271,  12.8963,   6.2485, -15.0333,  -0.7454,   4.0975,  -9.3789,\n",
      "          20.5013,  26.2661,  -1.5854],\n",
      "        [ -6.0595,  17.6480,  20.2794, -10.4444,  -2.6184,  -9.5949,  -7.0494,\n",
      "          20.6534,  32.4199,  10.1890],\n",
      "        [  1.9259,  18.6711,  -0.1182,  -6.0160,  -0.2160,   8.3327,  -6.9438,\n",
      "           8.2028,  15.6420,   7.3390],\n",
      "        [ 13.4404,  16.4883,   0.4525,  -9.7703,  -7.7516,   0.8762,  -7.0153,\n",
      "          13.5952,  29.8010,   9.1093],\n",
      "        [ -3.3019,  17.5364,  12.7725, -20.9364,  -6.6074,   4.4831,  -8.2249,\n",
      "          16.0901,  12.1875,   8.1840],\n",
      "        [  5.1046,  12.9416,   5.1646,  -9.6841,   6.6276,  -5.3250, -10.0029,\n",
      "          12.2920,  22.9919,  -4.8636],\n",
      "        [ -1.5788,  14.2807,   3.8371, -17.3287,   0.4186,  -0.9841,  -8.1158,\n",
      "          18.1009,  20.6448,   0.5380],\n",
      "        [ -9.8441,  10.5734,   9.1767,  -6.5987,  -0.8781,  -1.1946,  -7.6501,\n",
      "          23.7918,  22.2258,  -3.9856],\n",
      "        [ -0.9709,  11.9562,   3.7035, -10.4543,   0.6302,  -7.8254, -10.2385,\n",
      "           7.2185,  14.3150,  -2.2378],\n",
      "        [ -2.9294,   9.5709,  15.0797, -10.0922, -11.4582,   5.8681,  -6.6713,\n",
      "          16.3802,  25.9682,   6.0858],\n",
      "        [  2.3491,   1.5456,  15.9140, -18.6828,   7.6237,   0.8812,  -5.8732,\n",
      "          11.3281,  19.5628,  -3.0140],\n",
      "        [  2.4246,   7.7070,  12.8230,  -9.9884,  -3.5135,   6.0450,  -5.3199,\n",
      "          -7.2303,  20.9837,  -1.9050],\n",
      "        [ -5.1219,  13.6625,   7.3631,  -4.1625,   4.3571,  -5.4182, -11.8623,\n",
      "           7.6441,  20.7838,  -1.6545],\n",
      "        [  4.3946,  12.2004,   8.0193, -23.9963,  -4.9943,  -2.2737,  -9.8926,\n",
      "          13.3595,  14.3450,  -7.0402],\n",
      "        [ -2.2330,  18.0862,   6.6599, -14.5914,  -9.2429,  -3.1748, -11.1788,\n",
      "          13.0455,  22.9053,   0.0913],\n",
      "        [ -3.5963,  15.4094,  -4.6310, -16.9576,  -1.7893,  11.5882,  -9.6394,\n",
      "           9.9166,  17.0508,   3.3697],\n",
      "        [  4.5311,  13.9604,   4.5108,  -5.3845,   2.1397,  -3.2365,  -9.0210,\n",
      "          11.8399,   7.7686,  -7.3536],\n",
      "        [ -3.2527,  -1.4527,  19.5421, -16.3231,   1.9440,  -0.8853, -13.4568,\n",
      "           8.6271,  34.4636,  -0.3577],\n",
      "        [  3.2108,   4.5477,  -2.5328, -23.9606,  -0.9446,   0.0327, -16.3280,\n",
      "          29.6906,  10.4909,   1.9465],\n",
      "        [-12.5793,  15.9343,   4.3568, -12.1682,  -5.8797,   3.2812, -12.3523,\n",
      "          22.2681,  21.1344,   1.4802],\n",
      "        [ -1.6979,   7.0847,  15.0490,  -3.5842,   5.6453,   6.8606,  -0.0659,\n",
      "          15.7544,  19.2141,  -0.7774],\n",
      "        [ -3.0463,   0.6596,   3.9773, -14.1394,   4.0217,   0.0343,  -9.8255,\n",
      "           5.9370,   8.4508,   1.4869],\n",
      "        [  2.6225,  14.5407,  10.5474, -12.9355,   7.7359,   8.2243,  -5.0345,\n",
      "          18.6997,   9.1162,  -2.7196],\n",
      "        [-12.1461,  15.0568,   7.4429,  -3.1678,  -3.8073,  -2.4986, -15.7392,\n",
      "          16.8122,  12.1247,   3.9346],\n",
      "        [  0.9782,   9.0737,   9.6996, -16.2867,  -5.7223,   8.3158,  -5.3330,\n",
      "          20.0522,  11.3871,   0.3452],\n",
      "        [ -7.4357,   8.5049,   9.5806, -11.5484,  -0.3610,  -3.3599,  -9.8777,\n",
      "           2.3565,  18.5017,   3.7518],\n",
      "        [ 10.9242,  15.6391,  10.9172, -11.8870,  -1.9341,  -0.4785, -12.9740,\n",
      "          18.3777,  19.0299,  11.7364]])\n"
     ]
    }
   ],
   "source": [
    "## Your solution\n",
    "\n",
    "def activation(x):\n",
    "    \"\"\" Sigmoid activation function \n",
    "    \n",
    "        Arguments\n",
    "        ---------\n",
    "        x: torch.Tensor\n",
    "    \"\"\"\n",
    "    return 1/(1+torch.exp(-x))\n",
    "\n",
    "features = images.view(64,784)\n",
    "# or\n",
    "#features = images.view(64,-1)\n",
    "\n",
    "n_input = features.shape[1]     # Number of input units, must match number of input features = 784\n",
    "n_hidden = 256                    # Number of hidden units \n",
    "n_output = 10       \n",
    "\n",
    "W1 = torch.randn(n_input, n_hidden)\n",
    "# Weights for hidden layer to output layer\n",
    "W2 = torch.randn(n_hidden, n_output)\n",
    "\n",
    "# and a true bias term\n",
    "B1 = torch.randn(n_hidden)\n",
    "B2 = torch.randn(n_output)\n",
    "\n",
    "#print(features.size())\n",
    "#print(W1.size())\n",
    "\n",
    "#temp_1 = torch.mm(features,W1)\n",
    "\n",
    "#print(temp_1.size())\n",
    "\n",
    "#temp = torch.mm(features,W1)+B1\n",
    "\n",
    "h= activation(torch.mm(features,W1)+B1)\n",
    "print(h.size())\n",
    "\n",
    "out = torch.mm(h,W2)+B2\n",
    "print(out.size())\n",
    "print(out)\n",
    "#out = # output of your network, should have shape (64,10)"
   ]
  },
  {
   "cell_type": "markdown",
   "metadata": {},
   "source": [
    "Now we have 10 outputs for our network. We want to pass in an image to our network and get out a probability distribution over the classes that tells us the likely class(es) the image belongs to. Something that looks like this:\n",
    "<img src='assets/image_distribution.png' width=500px>\n",
    "\n",
    "Here we see that the probability for each class is roughly the same. This is representing an untrained network, it hasn't seen any data yet so it just returns a uniform distribution with equal probabilities for each class.\n",
    "\n",
    "To calculate this probability distribution, we often use the [**softmax** function](https://en.wikipedia.org/wiki/Softmax_function). Mathematically this looks like\n",
    "\n",
    "$$\n",
    "\\Large \\sigma(x_i) = \\cfrac{e^{x_i}}{\\sum_k^K{e^{x_k}}}\n",
    "$$\n",
    "\n",
    "What this does is squish each input $x_i$ between 0 and 1 and normalizes the values to give you a proper probability distribution where the probabilites sum up to one.\n",
    "\n",
    "> **Exercise:** Implement a function `softmax` that performs the softmax calculation and returns probability distributions for each example in the batch. Note that you'll need to pay attention to the shapes when doing this. If you have a tensor `a` with shape `(64, 10)` and a tensor `b` with shape `(64,)`, doing `a/b` will give you an error because PyTorch will try to do the division across the columns (called broadcasting) but you'll get a size mismatch. The way to think about this is for each of the 64 examples, you only want to divide by one value, the sum in the denominator. So you need `b` to have a shape of `(64, 1)`. This way PyTorch will divide the 10 values in each row of `a` by the one value in each row of `b`. Pay attention to how you take the sum as well. You'll need to define the `dim` keyword in `torch.sum`. Setting `dim=0` takes the sum across the rows while `dim=1` takes the sum across the columns."
   ]
  },
  {
   "cell_type": "code",
   "execution_count": 35,
   "metadata": {},
   "outputs": [
    {
     "name": "stdout",
     "output_type": "stream",
     "text": [
      "torch.Size([64, 10])\n",
      "tensor([1.0000, 1.0000, 1.0000, 1.0000, 1.0000, 1.0000, 1.0000, 1.0000, 1.0000,\n",
      "        1.0000, 1.0000, 1.0000, 1.0000, 1.0000, 1.0000, 1.0000, 1.0000, 1.0000,\n",
      "        1.0000, 1.0000, 1.0000, 1.0000, 1.0000, 1.0000, 1.0000, 1.0000, 1.0000,\n",
      "        1.0000, 1.0000, 1.0000, 1.0000, 1.0000, 1.0000, 1.0000, 1.0000, 1.0000,\n",
      "        1.0000, 1.0000, 1.0000, 1.0000, 1.0000, 1.0000, 1.0000, 1.0000, 1.0000,\n",
      "        1.0000, 1.0000, 1.0000, 1.0000, 1.0000, 1.0000, 1.0000, 1.0000, 1.0000,\n",
      "        1.0000, 1.0000, 1.0000, 1.0000, 1.0000, 1.0000, 1.0000, 1.0000, 1.0000,\n",
      "        1.0000])\n"
     ]
    }
   ],
   "source": [
    "def softmax(x):\n",
    "    ## TODO: Implement the softmax function here\n",
    "    dim =1 \n",
    "    #print(x[1][1])\n",
    "    expo_matrix = torch.exp(x)\n",
    "    \n",
    "\n",
    "    #print(expo_matrix[1][1])\n",
    "    sum_matrix = torch.sum(expo_matrix,dim)\n",
    "  #  print(sum_matrix.size())\n",
    "  #  print(sum_matrix)\n",
    "    \n",
    "    #print(sum_matrix)\n",
    "    sum_matrix_1 = sum_matrix.view(64,-1) # or view(-1,1)\n",
    "    #print(expo_matrix.shape)\n",
    "   # print(sum_matrix_1.shape)\n",
    "    \n",
    "    out_softmax = expo_matrix/sum_matrix_1\n",
    "    return out_softmax # (64,10)\n",
    "# Here, out should be the output of the network in the previous excercise with shape (64,10)\n",
    "probabilities = softmax(out)\n",
    "\n",
    "# Does it have the right shape? Should be (64, 10)\n",
    "print(probabilities.shape)\n",
    "# Does it sum to 1?\n",
    "print(probabilities.sum(dim=1))"
   ]
  },
  {
   "cell_type": "markdown",
   "metadata": {},
   "source": [
    "## Building networks with PyTorch\n",
    "\n",
    "PyTorch provides a module `nn` that makes building networks much simpler. Here I'll show you how to build the same one as above with 784 inputs, 256 hidden units, 10 output units and a softmax output."
   ]
  },
  {
   "cell_type": "code",
   "execution_count": 36,
   "metadata": {},
   "outputs": [],
   "source": [
    "from torch import nn"
   ]
  },
  {
   "cell_type": "code",
   "execution_count": 37,
   "metadata": {},
   "outputs": [],
   "source": [
    "class Network(nn.Module):\n",
    "    def __init__(self):\n",
    "        super().__init__()\n",
    "        \n",
    "        # Inputs to hidden layer linear transformation\n",
    "        self.hidden = nn.Linear(784, 256)\n",
    "        # Output layer, 10 units - one for each digit\n",
    "        self.output = nn.Linear(256, 10)\n",
    "        \n",
    "        # Define sigmoid activation and softmax output \n",
    "        self.sigmoid = nn.Sigmoid()\n",
    "        self.softmax = nn.Softmax(dim=1)\n",
    "        \n",
    "    def forward(self, x):\n",
    "        # Pass the input tensor through each of our operations\n",
    "        x = self.hidden(x)\n",
    "        x = self.sigmoid(x)\n",
    "        x = self.output(x)\n",
    "        x = self.softmax(x)\n",
    "        \n",
    "        return x"
   ]
  },
  {
   "cell_type": "markdown",
   "metadata": {},
   "source": [
    "Let's go through this bit by bit.\n",
    "\n",
    "```python\n",
    "class Network(nn.Module):\n",
    "```\n",
    "\n",
    "Here we're inheriting from `nn.Module`. Combined with `super().__init__()` this creates a class that tracks the architecture and provides a lot of useful methods and attributes. It is mandatory to inherit from `nn.Module` when you're creating a class for your network. The name of the class itself can be anything.\n",
    "\n",
    "```python\n",
    "self.hidden = nn.Linear(784, 256)\n",
    "```\n",
    "\n",
    "This line creates a module for a linear transformation, $x\\mathbf{W} + b$, with 784 inputs and 256 outputs and assigns it to `self.hidden`. The module automatically creates the weight and bias tensors which we'll use in the `forward` method. You can access the weight and bias tensors once the network (`net`) is created with `net.hidden.weight` and `net.hidden.bias`.\n",
    "\n",
    "```python\n",
    "self.output = nn.Linear(256, 10)\n",
    "```\n",
    "\n",
    "Similarly, this creates another linear transformation with 256 inputs and 10 outputs.\n",
    "\n",
    "```python\n",
    "self.sigmoid = nn.Sigmoid()\n",
    "self.softmax = nn.Softmax(dim=1)\n",
    "```\n",
    "\n",
    "Here I defined operations for the sigmoid activation and softmax output. Setting `dim=1` in `nn.Softmax(dim=1)` calculates softmax across the columns.\n",
    "\n",
    "```python\n",
    "def forward(self, x):\n",
    "```\n",
    "\n",
    "PyTorch networks created with `nn.Module` must have a `forward` method defined. It takes in a tensor `x` and passes it through the operations you defined in the `__init__` method.\n",
    "\n",
    "```python\n",
    "x = self.hidden(x)\n",
    "x = self.sigmoid(x)\n",
    "x = self.output(x)\n",
    "x = self.softmax(x)\n",
    "```\n",
    "\n",
    "Here the input tensor `x` is passed through each operation a reassigned to `x`. We can see that the input tensor goes through the hidden layer, then a sigmoid function, then the output layer, and finally the softmax function. It doesn't matter what you name the variables here, as long as the inputs and outputs of the operations match the network architecture you want to build. The order in which you define things in the `__init__` method doesn't matter, but you'll need to sequence the operations correctly in the `forward` method.\n",
    "\n",
    "Now we can create a `Network` object."
   ]
  },
  {
   "cell_type": "code",
   "execution_count": 38,
   "metadata": {},
   "outputs": [
    {
     "data": {
      "text/plain": [
       "Network(\n",
       "  (hidden): Linear(in_features=784, out_features=256, bias=True)\n",
       "  (output): Linear(in_features=256, out_features=10, bias=True)\n",
       "  (sigmoid): Sigmoid()\n",
       "  (softmax): Softmax()\n",
       ")"
      ]
     },
     "execution_count": 38,
     "metadata": {},
     "output_type": "execute_result"
    }
   ],
   "source": [
    "# Create the network and look at it's text representation\n",
    "model = Network()\n",
    "model"
   ]
  },
  {
   "cell_type": "markdown",
   "metadata": {},
   "source": [
    "You can define the network somewhat more concisely and clearly using the `torch.nn.functional` module. This is the most common way you'll see networks defined as many operations are simple element-wise functions. We normally import this module as `F`, `import torch.nn.functional as F`."
   ]
  },
  {
   "cell_type": "code",
   "execution_count": 39,
   "metadata": {},
   "outputs": [],
   "source": [
    "import torch.nn.functional as F\n",
    "\n",
    "class Network(nn.Module):\n",
    "    def __init__(self):\n",
    "        super().__init__()\n",
    "        # Inputs to hidden layer linear transformation\n",
    "        self.hidden = nn.Linear(784, 256)\n",
    "        # Output layer, 10 units - one for each digit\n",
    "        self.output = nn.Linear(256, 10)\n",
    "        \n",
    "    def forward(self, x):\n",
    "        # Hidden layer with sigmoid activation\n",
    "        x = F.sigmoid(self.hidden(x))\n",
    "        # Output layer with softmax activation\n",
    "        x = F.softmax(self.output(x), dim=1)\n",
    "        \n",
    "        return x"
   ]
  },
  {
   "cell_type": "markdown",
   "metadata": {},
   "source": [
    "### Activation functions\n",
    "\n",
    "So far we've only been looking at the softmax activation, but in general any function can be used as an activation function. The only requirement is that for a network to approximate a non-linear function, the activation functions must be non-linear. Here are a few more examples of common activation functions: Tanh (hyperbolic tangent), and ReLU (rectified linear unit).\n",
    "\n",
    "<img src=\"assets/activation.png\" width=700px>\n",
    "\n",
    "In practice, the ReLU function is used almost exclusively as the activation function for hidden layers."
   ]
  },
  {
   "cell_type": "markdown",
   "metadata": {},
   "source": [
    "### Your Turn to Build a Network\n",
    "\n",
    "<img src=\"assets/mlp_mnist.png\" width=600px>\n",
    "\n",
    "> **Exercise:** Create a network with 784 input units, a hidden layer with 128 units and a ReLU activation, then a hidden layer with 64 units and a ReLU activation, and finally an output layer with a softmax activation as shown above. You can use a ReLU activation with the `nn.ReLU` module or `F.relu` function."
   ]
  },
  {
   "cell_type": "code",
   "execution_count": 50,
   "metadata": {
    "scrolled": true
   },
   "outputs": [
    {
     "data": {
      "text/plain": [
       "Network(\n",
       "  (fc1): Linear(in_features=784, out_features=128, bias=True)\n",
       "  (fc2): Linear(in_features=128, out_features=64, bias=True)\n",
       "  (fc3): Linear(in_features=64, out_features=10, bias=True)\n",
       ")"
      ]
     },
     "execution_count": 50,
     "metadata": {},
     "output_type": "execute_result"
    }
   ],
   "source": [
    "## Your solution here\n",
    "import torch.nn.functional as F\n",
    "\n",
    "class Network(nn.Module):\n",
    "    def __init__(self):\n",
    "        super().__init__()\n",
    "        # Inputs to hidden layer linear transformation\n",
    "        self.fc1 = nn.Linear(784, 128)\n",
    "        \n",
    "        self.fc2 = nn.Linear(128, 64)\n",
    "        \n",
    "        # Output layer, 10 units - one for each digit\n",
    "        self.fc3 = nn.Linear(64, 10)\n",
    "        \n",
    "    def forward(self, x):\n",
    "        # Hidden layer with sigmoid activation\n",
    "        x = F.relu(self.fc1(x))\n",
    "        x = F.relu(self.fc2(x))\n",
    "        # Output layer with softmax activation\n",
    "        x = F.softmax(self.fc3(x), dim=1)\n",
    "        \n",
    "        \n",
    "        return x\n",
    "    \n",
    "model = Network()\n",
    "model"
   ]
  },
  {
   "cell_type": "markdown",
   "metadata": {},
   "source": [
    "### Initializing weights and biases\n",
    "\n",
    "The weights and such are automatically initialized for you, but it's possible to customize how they are initialized. The weights and biases are tensors attached to the layer you defined, you can get them with `model.fc1.weight` for instance."
   ]
  },
  {
   "cell_type": "code",
   "execution_count": 51,
   "metadata": {},
   "outputs": [
    {
     "name": "stdout",
     "output_type": "stream",
     "text": [
      "Parameter containing:\n",
      "tensor([[-0.0296, -0.0201,  0.0234,  ...,  0.0126, -0.0090,  0.0282],\n",
      "        [ 0.0267, -0.0073,  0.0316,  ...,  0.0224,  0.0029,  0.0152],\n",
      "        [ 0.0021,  0.0227,  0.0352,  ..., -0.0339, -0.0164,  0.0131],\n",
      "        ...,\n",
      "        [ 0.0345, -0.0164, -0.0211,  ..., -0.0118,  0.0133, -0.0030],\n",
      "        [-0.0346,  0.0342,  0.0034,  ...,  0.0052,  0.0162, -0.0261],\n",
      "        [-0.0249, -0.0354,  0.0077,  ...,  0.0191,  0.0350, -0.0289]],\n",
      "       requires_grad=True)\n",
      "Parameter containing:\n",
      "tensor([ 0.0163,  0.0176,  0.0243, -0.0352, -0.0050, -0.0153,  0.0013, -0.0341,\n",
      "         0.0097, -0.0342, -0.0115,  0.0032, -0.0351,  0.0010, -0.0243,  0.0260,\n",
      "        -0.0274, -0.0176,  0.0007, -0.0214,  0.0234,  0.0085,  0.0134, -0.0047,\n",
      "        -0.0101,  0.0256,  0.0007,  0.0005,  0.0022, -0.0254,  0.0222,  0.0072,\n",
      "        -0.0287, -0.0233, -0.0294,  0.0034,  0.0142, -0.0253, -0.0085,  0.0344,\n",
      "        -0.0289,  0.0283,  0.0078,  0.0143,  0.0341,  0.0139,  0.0268,  0.0352,\n",
      "         0.0005, -0.0028, -0.0332,  0.0023,  0.0100,  0.0049, -0.0122, -0.0318,\n",
      "         0.0337, -0.0281,  0.0123,  0.0280,  0.0109,  0.0175,  0.0241,  0.0022,\n",
      "        -0.0298,  0.0106,  0.0094, -0.0254,  0.0245,  0.0343, -0.0134, -0.0022,\n",
      "         0.0159,  0.0091, -0.0348,  0.0135, -0.0039,  0.0285,  0.0011,  0.0183,\n",
      "        -0.0162,  0.0020, -0.0068, -0.0136, -0.0251,  0.0142,  0.0003,  0.0026,\n",
      "         0.0226,  0.0031,  0.0013,  0.0339, -0.0085,  0.0121, -0.0112, -0.0043,\n",
      "         0.0303,  0.0019,  0.0059,  0.0037, -0.0011,  0.0102, -0.0270,  0.0036,\n",
      "        -0.0021, -0.0141, -0.0169, -0.0125, -0.0170,  0.0349,  0.0062,  0.0071,\n",
      "        -0.0290,  0.0147, -0.0325,  0.0096,  0.0098,  0.0224, -0.0238,  0.0080,\n",
      "        -0.0034,  0.0040, -0.0038, -0.0293, -0.0345, -0.0319, -0.0339,  0.0243],\n",
      "       requires_grad=True)\n"
     ]
    }
   ],
   "source": [
    "print(model.fc1.weight)\n",
    "print(model.fc1.bias)"
   ]
  },
  {
   "cell_type": "markdown",
   "metadata": {},
   "source": [
    "For custom initialization, we want to modify these tensors in place. These are actually autograd *Variables*, so we need to get back the actual tensors with `model.fc1.weight.data`. Once we have the tensors, we can fill them with zeros (for biases) or random normal values."
   ]
  },
  {
   "cell_type": "code",
   "execution_count": 52,
   "metadata": {},
   "outputs": [
    {
     "data": {
      "text/plain": [
       "tensor([0., 0., 0., 0., 0., 0., 0., 0., 0., 0., 0., 0., 0., 0., 0., 0., 0., 0.,\n",
       "        0., 0., 0., 0., 0., 0., 0., 0., 0., 0., 0., 0., 0., 0., 0., 0., 0., 0.,\n",
       "        0., 0., 0., 0., 0., 0., 0., 0., 0., 0., 0., 0., 0., 0., 0., 0., 0., 0.,\n",
       "        0., 0., 0., 0., 0., 0., 0., 0., 0., 0., 0., 0., 0., 0., 0., 0., 0., 0.,\n",
       "        0., 0., 0., 0., 0., 0., 0., 0., 0., 0., 0., 0., 0., 0., 0., 0., 0., 0.,\n",
       "        0., 0., 0., 0., 0., 0., 0., 0., 0., 0., 0., 0., 0., 0., 0., 0., 0., 0.,\n",
       "        0., 0., 0., 0., 0., 0., 0., 0., 0., 0., 0., 0., 0., 0., 0., 0., 0., 0.,\n",
       "        0., 0.])"
      ]
     },
     "execution_count": 52,
     "metadata": {},
     "output_type": "execute_result"
    }
   ],
   "source": [
    "# Set biases to all zeros\n",
    "model.fc1.bias.data.fill_(0)"
   ]
  },
  {
   "cell_type": "code",
   "execution_count": 53,
   "metadata": {},
   "outputs": [
    {
     "data": {
      "text/plain": [
       "tensor([[ 0.0020,  0.0021, -0.0169,  ..., -0.0058,  0.0015,  0.0029],\n",
       "        [ 0.0057,  0.0027,  0.0038,  ...,  0.0097, -0.0053, -0.0032],\n",
       "        [ 0.0097,  0.0040, -0.0064,  ...,  0.0070,  0.0049,  0.0035],\n",
       "        ...,\n",
       "        [-0.0046,  0.0011, -0.0111,  ...,  0.0323,  0.0009,  0.0082],\n",
       "        [-0.0070, -0.0006,  0.0080,  ...,  0.0055, -0.0062,  0.0036],\n",
       "        [ 0.0044, -0.0127,  0.0095,  ...,  0.0203, -0.0080, -0.0035]])"
      ]
     },
     "execution_count": 53,
     "metadata": {},
     "output_type": "execute_result"
    }
   ],
   "source": [
    "# sample from random normal with standard dev = 0.01\n",
    "model.fc1.weight.data.normal_(std=0.01)"
   ]
  },
  {
   "cell_type": "markdown",
   "metadata": {},
   "source": [
    "### Forward pass\n",
    "\n",
    "Now that we have a network, let's see what happens when we pass in an image."
   ]
  },
  {
   "cell_type": "code",
   "execution_count": 58,
   "metadata": {},
   "outputs": [
    {
     "data": {
      "image/png": "[encoded data removed]",
      "text/plain": [
       "<Figure size 432x648 with 2 Axes>"
      ]
     },
     "metadata": {
      "image/png": {
       "height": 224,
       "width": 423
      },
      "needs_background": "light"
     },
     "output_type": "display_data"
    }
   ],
   "source": [
    "# Grab some data \n",
    "dataiter = iter(trainloader)\n",
    "images, labels = dataiter.next()\n",
    "\n",
    "# Resize images into a 1D vector, new shape is (batch size, color channels, image pixels) \n",
    "images.resize_(64, 1, 784)\n",
    "# or images.resize_(images.shape[0], 1, 784) to automatically get batch size\n",
    "\n",
    "# Forward pass through the network\n",
    "img_idx = 0\n",
    "ps = model.forward(images[img_idx,:])\n",
    "\n",
    "img = images[img_idx]\n",
    "\n",
    "helper.view_classify(img.view(1, 28, 28), ps)"
   ]
  },
  {
   "cell_type": "markdown",
   "metadata": {},
   "source": [
    "As you can see above, our network has basically no idea what this digit is. It's because we haven't trained it yet, all the weights are random!\n",
    "\n",
    "### Using `nn.Sequential`\n",
    "\n",
    "PyTorch provides a convenient way to build networks like this where a tensor is passed sequentially through operations, `nn.Sequential` ([documentation](https://pytorch.org/docs/master/nn.html#torch.nn.Sequential)). Using this to build the equivalent network:"
   ]
  },
  {
   "cell_type": "code",
   "execution_count": 61,
   "metadata": {},
   "outputs": [
    {
     "name": "stdout",
     "output_type": "stream",
     "text": [
      "Sequential(\n",
      "  (0): Linear(in_features=784, out_features=128, bias=True)\n",
      "  (1): ReLU()\n",
      "  (2): Linear(in_features=128, out_features=64, bias=True)\n",
      "  (3): ReLU()\n",
      "  (4): Linear(in_features=64, out_features=10, bias=True)\n",
      "  (5): Softmax()\n",
      ")\n"
     ]
    },
    {
     "data": {
      "image/png": "[encoded data removed]",
      "text/plain": [
       "<Figure size 432x648 with 2 Axes>"
      ]
     },
     "metadata": {
      "image/png": {
       "height": 224,
       "width": 423
      },
      "needs_background": "light"
     },
     "output_type": "display_data"
    }
   ],
   "source": [
    "# Hyperparameters for our network\n",
    "input_size = 784\n",
    "hidden_sizes = [128, 64]\n",
    "output_size = 10\n",
    "\n",
    "# Build a feed-forward network\n",
    "model = nn.Sequential(nn.Linear(input_size, hidden_sizes[0]),\n",
    "                      nn.ReLU(),\n",
    "                      nn.Linear(hidden_sizes[0], hidden_sizes[1]),\n",
    "                      nn.ReLU(),\n",
    "                      nn.Linear(hidden_sizes[1], output_size),\n",
    "                      nn.Softmax(dim=1))\n",
    "print(model)\n",
    "\n",
    "# Forward pass through the network and display output\n",
    "images, labels = next(iter(trainloader))\n",
    "images.resize_(images.shape[0], 1, 784)\n",
    "ps = model.forward(images[0,:])\n",
    "helper.view_classify(images[0].view(1, 28, 28),ps)"
   ]
  },
  {
   "cell_type": "markdown",
   "metadata": {},
   "source": [
    "Here our model is the same as before: 784 input units, a hidden layer with 128 units, ReLU activation, 64 unit hidden layer, another ReLU, then the output layer with 10 units, and the softmax output.\n",
    "\n",
    "The operations are availble by passing in the appropriate index. For example, if you want to get first Linear operation and look at the weights, you'd use `model[0]`."
   ]
  },
  {
   "cell_type": "code",
   "execution_count": 62,
   "metadata": {},
   "outputs": [
    {
     "name": "stdout",
     "output_type": "stream",
     "text": [
      "Linear(in_features=784, out_features=128, bias=True)\n"
     ]
    },
    {
     "data": {
      "text/plain": [
       "Parameter containing:\n",
       "tensor([[ 0.0059, -0.0133,  0.0076,  ..., -0.0217, -0.0318,  0.0029],\n",
       "        [ 0.0270, -0.0308, -0.0192,  ...,  0.0089, -0.0203,  0.0229],\n",
       "        [ 0.0306,  0.0160, -0.0100,  ..., -0.0089,  0.0118, -0.0246],\n",
       "        ...,\n",
       "        [-0.0028,  0.0243,  0.0248,  ..., -0.0241,  0.0104, -0.0017],\n",
       "        [-0.0165,  0.0350,  0.0257,  ..., -0.0088, -0.0022, -0.0160],\n",
       "        [ 0.0279, -0.0122, -0.0113,  ...,  0.0151, -0.0195, -0.0159]],\n",
       "       requires_grad=True)"
      ]
     },
     "execution_count": 62,
     "metadata": {},
     "output_type": "execute_result"
    }
   ],
   "source": [
    "print(model[0])\n",
    "model[0].weight"
   ]
  },
  {
   "cell_type": "markdown",
   "metadata": {},
   "source": [
    "You can also pass in an `OrderedDict` to name the individual layers and operations, instead of using incremental integers. Note that dictionary keys must be unique, so _each operation must have a different name_."
   ]
  },
  {
   "cell_type": "code",
   "execution_count": 63,
   "metadata": {},
   "outputs": [
    {
     "data": {
      "text/plain": [
       "Sequential(\n",
       "  (fc1): Linear(in_features=784, out_features=128, bias=True)\n",
       "  (relu1): ReLU()\n",
       "  (fc2): Linear(in_features=128, out_features=64, bias=True)\n",
       "  (relu2): ReLU()\n",
       "  (output): Linear(in_features=64, out_features=10, bias=True)\n",
       "  (softmax): Softmax()\n",
       ")"
      ]
     },
     "execution_count": 63,
     "metadata": {},
     "output_type": "execute_result"
    }
   ],
   "source": [
    "from collections import OrderedDict\n",
    "model = nn.Sequential(OrderedDict([\n",
    "                      ('fc1', nn.Linear(input_size, hidden_sizes[0])),\n",
    "                      ('relu1', nn.ReLU()),\n",
    "                      ('fc2', nn.Linear(hidden_sizes[0], hidden_sizes[1])),\n",
    "                      ('relu2', nn.ReLU()),\n",
    "                      ('output', nn.Linear(hidden_sizes[1], output_size)),\n",
    "                      ('softmax', nn.Softmax(dim=1))]))\n",
    "model"
   ]
  },
  {
   "cell_type": "markdown",
   "metadata": {},
   "source": [
    "Now you can access layers either by integer or the name"
   ]
  },
  {
   "cell_type": "code",
   "execution_count": 64,
   "metadata": {},
   "outputs": [
    {
     "name": "stdout",
     "output_type": "stream",
     "text": [
      "Linear(in_features=784, out_features=128, bias=True)\n",
      "Linear(in_features=784, out_features=128, bias=True)\n"
     ]
    }
   ],
   "source": [
    "print(model[0])\n",
    "print(model.fc1)"
   ]
  },
  {
   "cell_type": "markdown",
   "metadata": {},
   "source": [
    "In the next notebook, we'll see how we can train a neural network to accuractly predict the numbers appearing in the MNIST images."
   ]
  }
 ],
 "metadata": {
  "kernelspec": {
   "display_name": "Python 3",
   "language": "python",
   "name": "python3"
  },
  "language_info": {
   "codemirror_mode": {
    "name": "ipython",
    "version": 3
   },
   "file_extension": ".py",
   "mimetype": "text/x-python",
   "name": "python",
   "nbconvert_exporter": "python",
   "pygments_lexer": "ipython3",
   "version": "3.7.0"
  }
 },
 "nbformat": 4,
 "nbformat_minor": 2
}
